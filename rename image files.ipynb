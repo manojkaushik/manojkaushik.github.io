{
 "cells": [
  {
   "cell_type": "code",
   "execution_count": 18,
   "metadata": {},
   "outputs": [
    {
     "name": "stdout",
     "output_type": "stream",
     "text": [
      "Renamed: IMG-20231218-WA0011.jpg -> 1.jpg\n",
      "Renamed: IMG-20231218-WA0022.jpg -> 2.jpg\n",
      "Renamed: IMG_20231218_150743.jpg -> 3.jpg\n",
      "Renamed: IMG_20231218_155609.jpg -> 4.jpg\n"
     ]
    }
   ],
   "source": [
    "import os\n",
    "\n",
    "def rename_images(folder_path):\n",
    "    # Get a list of all files in the folder\n",
    "    files = os.listdir(folder_path)\n",
    "    \n",
    "    # Filter only image files (you can add more extensions if needed)\n",
    "    image_extensions = ('.jpg', '.jpeg', '.png', '.gif', '.bmp', '.tiff')\n",
    "    image_files = [file for file in files if file.lower().endswith(image_extensions)]\n",
    "    \n",
    "    # Sort the image files to ensure consistent renaming order\n",
    "    image_files.sort()\n",
    "    \n",
    "    # Rename each image file numerically\n",
    "    for index, file in enumerate(image_files, start=1):\n",
    "        # Construct the new file name\n",
    "        new_name = f\"{index}.jpg\"\n",
    "        \n",
    "        # Get the full paths for the old and new file names\n",
    "        old_path = os.path.join(folder_path, file)\n",
    "        new_path = os.path.join(folder_path, new_name)\n",
    "        \n",
    "        # Rename the file\n",
    "        os.rename(old_path, new_path)\n",
    "        print(f\"Renamed: {file} -> {new_name}\")\n",
    "\n",
    "# Example usage\n",
    "folder_path = r\"C:\\xampp\\htdocs\\manojkaushik.github.io\\gallery\\Events\\2023 12(Dec) 18Dec GIS Day\"  # Replace with your folder path\n",
    "rename_images(folder_path)"
   ]
  }
 ],
 "metadata": {
  "kernelspec": {
   "display_name": "SOC",
   "language": "python",
   "name": "python3"
  },
  "language_info": {
   "codemirror_mode": {
    "name": "ipython",
    "version": 3
   },
   "file_extension": ".py",
   "mimetype": "text/x-python",
   "name": "python",
   "nbconvert_exporter": "python",
   "pygments_lexer": "ipython3",
   "version": "3.10.14"
  }
 },
 "nbformat": 4,
 "nbformat_minor": 2
}
